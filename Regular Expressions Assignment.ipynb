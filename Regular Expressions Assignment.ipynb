{
 "cells": [
  {
   "cell_type": "code",
   "execution_count": 2,
   "id": "dfc974b4",
   "metadata": {},
   "outputs": [],
   "source": [
    "import regex as re"
   ]
  },
  {
   "cell_type": "markdown",
   "id": "246b5e06",
   "metadata": {},
   "source": [
    "# Q1. Write a Python program to check that a string contains only a certain set of characters (in this case a-z, A-Z and 0-9)."
   ]
  },
  {
   "cell_type": "code",
   "execution_count": 68,
   "id": "56fbc182",
   "metadata": {},
   "outputs": [
    {
     "name": "stdout",
     "output_type": "stream",
     "text": [
      "Enter any string: abcdeFGHIJ01234\n",
      "True\n"
     ]
    }
   ],
   "source": [
    "string=input(\"Enter any string: \")\n",
    "pattern='\\w'\n",
    "result=re.match(pattern,string)\n",
    "print(bool(result))"
   ]
  },
  {
   "cell_type": "markdown",
   "id": "cb86355a",
   "metadata": {},
   "source": [
    "# Q2. Create a function in python that matches a string that has an a followed by zero or more b's"
   ]
  },
  {
   "cell_type": "code",
   "execution_count": 67,
   "id": "05a6510e",
   "metadata": {},
   "outputs": [
    {
     "name": "stdout",
     "output_type": "stream",
     "text": [
      "matched\n",
      "matched\n",
      "not matched\n",
      "matched\n"
     ]
    }
   ],
   "source": [
    "def string_match(string1):\n",
    "    pattern1='^a(b*)$'\n",
    "    if (re.search(pattern1,string1)):\n",
    "        return 'matched'\n",
    "    else:\n",
    "        return 'not matched'\n",
    "\n",
    "print(string_match('a'))\n",
    "print(string_match('ab'))\n",
    "print(string_match('ac'))\n",
    "print(string_match('abb'))"
   ]
  },
  {
   "cell_type": "markdown",
   "id": "c27a3934",
   "metadata": {},
   "source": [
    "# Q3. Create a function in python that matches a string that has an a followed by one or more b's"
   ]
  },
  {
   "cell_type": "code",
   "execution_count": 68,
   "id": "7f15fae5",
   "metadata": {},
   "outputs": [
    {
     "name": "stdout",
     "output_type": "stream",
     "text": [
      "not matched\n",
      "matched\n",
      "not matched\n",
      "matched\n"
     ]
    }
   ],
   "source": [
    "def string_match(string2):\n",
    "    pattern2='^a(b+)$'\n",
    "    if (re.search(pattern2,string2)):\n",
    "        return 'matched'\n",
    "    else:\n",
    "        return 'not matched'\n",
    "\n",
    "print(string_match('a'))\n",
    "print(string_match('ab'))\n",
    "print(string_match('ac'))\n",
    "print(string_match('abb'))"
   ]
  },
  {
   "cell_type": "markdown",
   "id": "02657ec4",
   "metadata": {},
   "source": [
    "# Q4. Create a function in Python and use RegEx that matches a string that has an a followed by zero or one 'b'."
   ]
  },
  {
   "cell_type": "code",
   "execution_count": 69,
   "id": "c2105533",
   "metadata": {},
   "outputs": [
    {
     "name": "stdout",
     "output_type": "stream",
     "text": [
      "matched\n",
      "matched\n",
      "not matched\n",
      "not matched\n"
     ]
    }
   ],
   "source": [
    "def string_match(string3):\n",
    "    pattern3='^a(b?)$'\n",
    "    if (re.search(pattern3,string3)):\n",
    "        return 'matched'\n",
    "    else:\n",
    "        return 'not matched'\n",
    "\n",
    "print(string_match('a'))\n",
    "print(string_match('ab'))\n",
    "print(string_match('ac'))\n",
    "print(string_match('abb'))"
   ]
  },
  {
   "cell_type": "markdown",
   "id": "06570e70",
   "metadata": {},
   "source": [
    "# Q5. Write a Python program that matches a string that has an a followed by three 'b'."
   ]
  },
  {
   "cell_type": "code",
   "execution_count": 71,
   "id": "ac5d7ce3",
   "metadata": {},
   "outputs": [
    {
     "name": "stdout",
     "output_type": "stream",
     "text": [
      "Enter any string: abbb\n",
      "matched\n"
     ]
    }
   ],
   "source": [
    "string4=input(\"Enter any string: \")\n",
    "pattern4='^ab{3}$'\n",
    "if (re.search(pattern4,string4)):\n",
    "        print('matched')\n",
    "else:\n",
    "        print('not matched')"
   ]
  },
  {
   "cell_type": "markdown",
   "id": "da24ac7c",
   "metadata": {},
   "source": [
    "# Q6. Write a regular expression in Python to split a string into uppercase letters. Sample text: “ImportanceOfRegularExpressionsInPython”            Output: [‘Importance’, ‘Of’, ‘Regular’, ‘Expression’, ‘In’, ‘Python’]"
   ]
  },
  {
   "cell_type": "code",
   "execution_count": 40,
   "id": "0fdbea2b",
   "metadata": {},
   "outputs": [
    {
     "name": "stdout",
     "output_type": "stream",
     "text": [
      "Enter any string: ImportanceOfRegularExpressionsInPython\n",
      "['Importance', 'Of', 'Regular', 'Expressions', 'In', 'Python']\n"
     ]
    }
   ],
   "source": [
    "string5=input(\"Enter any string: \")\n",
    "pattern5='[A-Z][^A-Z]*'\n",
    "result1=re.findall(pattern5,string5)\n",
    "print(result1)"
   ]
  },
  {
   "cell_type": "markdown",
   "id": "510a2728",
   "metadata": {},
   "source": [
    "# Q7. a Python program that matches a string that has an a followed by two to three 'b'."
   ]
  },
  {
   "cell_type": "code",
   "execution_count": 25,
   "id": "0a062aee",
   "metadata": {},
   "outputs": [
    {
     "name": "stdout",
     "output_type": "stream",
     "text": [
      "Enter any string: abbbb\n",
      "not matched\n"
     ]
    }
   ],
   "source": [
    "string6=input(\"Enter any string: \")\n",
    "pattern6='^ab{2,3}$'\n",
    "if (re.search(pattern6,string6)):\n",
    "        print('matched')\n",
    "else:\n",
    "        print('not matched')"
   ]
  },
  {
   "cell_type": "markdown",
   "id": "8715f225",
   "metadata": {},
   "source": [
    "# Q8. Write a Python program to find sequences of lowercase letters joined with a underscore."
   ]
  },
  {
   "cell_type": "code",
   "execution_count": 30,
   "id": "d59c45b3",
   "metadata": {},
   "outputs": [
    {
     "name": "stdout",
     "output_type": "stream",
     "text": [
      "Enter any string: abc_def\n",
      "matched\n"
     ]
    }
   ],
   "source": [
    "string7=input(\"Enter any string: \")\n",
    "pattern7='^[a-z]+_[a-z]+$'\n",
    "if (re.search(pattern7,string7)):\n",
    "        print('matched')\n",
    "else:\n",
    "        print('not matched')"
   ]
  },
  {
   "cell_type": "markdown",
   "id": "ff3f195f",
   "metadata": {},
   "source": [
    "# Q9. Write a Python program that matches a string that has an 'a' followed by anything, ending in 'b'."
   ]
  },
  {
   "cell_type": "code",
   "execution_count": 37,
   "id": "b310e5cd",
   "metadata": {},
   "outputs": [
    {
     "name": "stdout",
     "output_type": "stream",
     "text": [
      "Enter any string: a@#$%b\n",
      "matched\n"
     ]
    }
   ],
   "source": [
    "string8=input(\"Enter any string: \")\n",
    "pattern8='^a.*b$'\n",
    "if (re.search(pattern8,string8)):\n",
    "        print('matched')\n",
    "else:\n",
    "        print('not matched')"
   ]
  },
  {
   "cell_type": "markdown",
   "id": "ceb31b17",
   "metadata": {},
   "source": [
    "# Q10. Write a Python program that matches a word at the beginning of a string."
   ]
  },
  {
   "cell_type": "code",
   "execution_count": 17,
   "id": "2701fd98",
   "metadata": {},
   "outputs": [
    {
     "name": "stdout",
     "output_type": "stream",
     "text": [
      "Enter any string: abcd0987\n",
      "matched\n"
     ]
    }
   ],
   "source": [
    "string9=input(\"Enter any string: \")\n",
    "pattern9='^[a-zA-Z]'\n",
    "if (re.search(pattern9,string9)):\n",
    "        print('matched')\n",
    "else:\n",
    "        print('not matched')"
   ]
  },
  {
   "cell_type": "markdown",
   "id": "73a459a3",
   "metadata": {},
   "source": [
    "# Q11. Write a Python program to match a string that contains only upper and lowercase letters, numbers, and underscores."
   ]
  },
  {
   "cell_type": "code",
   "execution_count": 23,
   "id": "fe0f4d25",
   "metadata": {},
   "outputs": [
    {
     "name": "stdout",
     "output_type": "stream",
     "text": [
      "Enter any string: !@#$\n",
      "not matched\n"
     ]
    }
   ],
   "source": [
    "string10=input(\"Enter any string: \")\n",
    "pattern10='^[A-Za-z0-9_]*$'\n",
    "if (re.search(pattern10,string10)):\n",
    "        print('matched')\n",
    "else:\n",
    "        print('not matched')"
   ]
  },
  {
   "cell_type": "markdown",
   "id": "ad32ef31",
   "metadata": {},
   "source": [
    "# Q12. Write a Python program where a string will start with a specific number. "
   ]
  },
  {
   "cell_type": "code",
   "execution_count": 18,
   "id": "4cd15759",
   "metadata": {},
   "outputs": [
    {
     "name": "stdout",
     "output_type": "stream",
     "text": [
      "Enter any string: 09876abcdefg\n",
      "Enter any number: 09876\n",
      "matched\n"
     ]
    }
   ],
   "source": [
    "string11=input(\"Enter any string: \")\n",
    "number=input(\"Enter any number: \")\n",
    "if (re.match(number,string11)):\n",
    "        print('matched')\n",
    "else:\n",
    "        print('not matched')"
   ]
  },
  {
   "cell_type": "markdown",
   "id": "6075e7ee",
   "metadata": {},
   "source": [
    "# Q13. Write a Python program to remove leading zeros from an IP address"
   ]
  },
  {
   "cell_type": "code",
   "execution_count": 8,
   "id": "50fab8ac",
   "metadata": {},
   "outputs": [
    {
     "name": "stdout",
     "output_type": "stream",
     "text": [
      "Enter any IP address: 100.020.003.400\n",
      "100.20.3.400\n"
     ]
    }
   ],
   "source": [
    "string12=input(\"Enter any IP address: \")\n",
    "result2=re.sub('\\.[0]*','.',string12)\n",
    "print(result2)"
   ]
  },
  {
   "cell_type": "markdown",
   "id": "c95ccbc6",
   "metadata": {},
   "source": [
    "# Q15. Write a Python program to search some literals strings in a string. Go to the editor. Sample text : 'The quick brown fox jumps over the lazy dog.' Searched words : 'fox', 'dog', 'horse'"
   ]
  },
  {
   "cell_type": "code",
   "execution_count": 17,
   "id": "900cb0f6",
   "metadata": {},
   "outputs": [
    {
     "name": "stdout",
     "output_type": "stream",
     "text": [
      "Enter any string: The quick brown fox jumps over the lazy dog\n",
      "matched\n"
     ]
    }
   ],
   "source": [
    "string14=input(\"Enter any string: \")\n",
    "pattern14='fox|dog|horse'\n",
    "if (re.search(pattern14,string14)):\n",
    "        print('matched')\n",
    "else:\n",
    "        print('not matched')"
   ]
  },
  {
   "cell_type": "markdown",
   "id": "d71a1b7b",
   "metadata": {},
   "source": [
    "# Q16. Write a Python program to search a literals string in a string and also find the location within the original string where the pattern occurs. Sample text : 'The quick brown fox jumps over the lazy dog.' Searched words : 'fox'"
   ]
  },
  {
   "cell_type": "code",
   "execution_count": 33,
   "id": "f86141f3",
   "metadata": {},
   "outputs": [
    {
     "name": "stdout",
     "output_type": "stream",
     "text": [
      "Enter any string: The quick brown fox jumps over the lazy dog\n",
      "matched and the word starts from 16\n"
     ]
    }
   ],
   "source": [
    "string15=input(\"Enter any string: \")\n",
    "result4=re.search('fox',string15)\n",
    "if result4:\n",
    "    print('matched and the word starts from',result4.start())\n",
    "else:\n",
    "    print('not matched')"
   ]
  },
  {
   "cell_type": "markdown",
   "id": "3ac589d8",
   "metadata": {},
   "source": [
    "# Q17. Write a Python program to find the substrings within a string. Sample text : 'Python exercises, PHP exercises, C# exercises'. Pattern : 'exercises'."
   ]
  },
  {
   "cell_type": "code",
   "execution_count": 34,
   "id": "ea869318",
   "metadata": {},
   "outputs": [
    {
     "name": "stdout",
     "output_type": "stream",
     "text": [
      "Enter any string: 'Python exercises, PHP exercises, C# exercises'\n",
      "['exercises', 'exercises', 'exercises']\n"
     ]
    }
   ],
   "source": [
    "string16=[input(\"Enter any string: \")]\n",
    "for pattern16 in string16:\n",
    "    result5=re.findall('exercises',pattern16)\n",
    "    print(result5)"
   ]
  },
  {
   "cell_type": "markdown",
   "id": "d0551bde",
   "metadata": {},
   "source": [
    "# Q18. Write a Python program to find the occurrence and position of the substrings within a string."
   ]
  },
  {
   "cell_type": "code",
   "execution_count": 35,
   "id": "cecc593e",
   "metadata": {},
   "outputs": [
    {
     "name": "stdout",
     "output_type": "stream",
     "text": [
      "<regex.Match object; span=(7, 16), match='exercises'>\n",
      "<regex.Match object; span=(4, 13), match='exercises'>\n",
      "<regex.Match object; span=(3, 12), match='exercises'>\n"
     ]
    }
   ],
   "source": [
    "string17=['Python exercises','PHP exercises','C# exercises']\n",
    "for pattern17 in string17:\n",
    "    result6=re.search('exercises',pattern17)\n",
    "    print(result6)"
   ]
  },
  {
   "cell_type": "markdown",
   "id": "30b2c7d2",
   "metadata": {},
   "source": [
    "# Q19. Write a Python program to convert a date of yyyy-mm-dd format to dd-mm-yyyy format."
   ]
  },
  {
   "cell_type": "code",
   "execution_count": 31,
   "id": "ecff3f83",
   "metadata": {},
   "outputs": [
    {
     "name": "stdout",
     "output_type": "stream",
     "text": [
      "Enter any date: 2023-07-16\n",
      "16-07-2023\n"
     ]
    }
   ],
   "source": [
    "string29=input(\"Enter any date: \")\n",
    "pattern29='(\\d{4})[-](\\d{2})[-](\\d{2})'\n",
    "result15=re.sub(pattern29,'\\\\3-\\\\2-\\\\1',string29)\n",
    "print(result15)"
   ]
  },
  {
   "cell_type": "markdown",
   "id": "71ed41b1",
   "metadata": {},
   "source": [
    "# Q20. Write a Python program to find all words starting with 'a' or 'e' in a given string."
   ]
  },
  {
   "cell_type": "code",
   "execution_count": 45,
   "id": "163fe273",
   "metadata": {},
   "outputs": [
    {
     "name": "stdout",
     "output_type": "stream",
     "text": [
      "Enter any string: All are working on Regular Expressions.\n",
      "['are', 'egular', 'essions']\n"
     ]
    }
   ],
   "source": [
    "string18=input(\"Enter any string: \")\n",
    "pattern18='[ae]\\w+'\n",
    "result7=re.findall(pattern18,string18)\n",
    "print(result7)"
   ]
  },
  {
   "cell_type": "markdown",
   "id": "2adedd44",
   "metadata": {},
   "source": [
    "# Q21. Write a Python program to separate and print the numbers and their position of a given string."
   ]
  },
  {
   "cell_type": "code",
   "execution_count": 72,
   "id": "52416179",
   "metadata": {},
   "outputs": [
    {
     "name": "stdout",
     "output_type": "stream",
     "text": [
      "Enter any string: One 1, Two 2, Three 3, Four 4\n",
      "1 at position:  4\n",
      "2 at position:  11\n",
      "3 at position:  20\n",
      "4 at position:  28\n"
     ]
    }
   ],
   "source": [
    "string19=input(\"Enter any string: \")\n",
    "result8=re.finditer('\\d+',string19)\n",
    "for i in result8:\n",
    "    print(i.group(), \"at position: \", i.start())"
   ]
  },
  {
   "cell_type": "markdown",
   "id": "4b0144fd",
   "metadata": {},
   "source": [
    "# Q22. Write a regular expression in python program to extract maximum numeric value from a string."
   ]
  },
  {
   "cell_type": "code",
   "execution_count": 84,
   "id": "38532a02",
   "metadata": {},
   "outputs": [
    {
     "name": "stdout",
     "output_type": "stream",
     "text": [
      "Enter any string: 100abcd200efgh300ijkl\n",
      "300\n"
     ]
    }
   ],
   "source": [
    "string20=input(\"Enter any string: \")\n",
    "result9=re.findall('\\d+',string20)\n",
    "print(max(result9))"
   ]
  },
  {
   "cell_type": "markdown",
   "id": "b7ffdf42",
   "metadata": {},
   "source": [
    "# Q23. Write a Regex in Python to put spaces between words starting with capital letters."
   ]
  },
  {
   "cell_type": "code",
   "execution_count": 4,
   "id": "089ea652",
   "metadata": {},
   "outputs": [
    {
     "name": "stdout",
     "output_type": "stream",
     "text": [
      "Enter any string: LetUsStudyPython\n",
      "Let Us Study Python\n"
     ]
    }
   ],
   "source": [
    "string21=input(\"Enter any string: \")\n",
    "pattern21='[A-Z][a-z]*'\n",
    "result10=re.findall(pattern21,string21)\n",
    "print(' '.join(result10))"
   ]
  },
  {
   "cell_type": "markdown",
   "id": "8dd389ca",
   "metadata": {},
   "source": [
    "# Q24. Python regex to find sequences of one upper case letter followed by lower case letters."
   ]
  },
  {
   "cell_type": "code",
   "execution_count": 10,
   "id": "94f6bd46",
   "metadata": {},
   "outputs": [
    {
     "name": "stdout",
     "output_type": "stream",
     "text": [
      "Enter any string: DoNe\n",
      "matched\n"
     ]
    }
   ],
   "source": [
    "string22=input(\"Enter any string: \")\n",
    "pattern22='[A-Z]+[a-z]+$'\n",
    "if (re.search(pattern22,string22)):\n",
    "        print('matched')\n",
    "else:\n",
    "        print('not matched')"
   ]
  },
  {
   "cell_type": "markdown",
   "id": "23eae8bf",
   "metadata": {},
   "source": [
    "# Q26. Write a python program using RegEx to accept string ending with alphanumeric character."
   ]
  },
  {
   "cell_type": "code",
   "execution_count": 13,
   "id": "ee72d6a6",
   "metadata": {},
   "outputs": [
    {
     "name": "stdout",
     "output_type": "stream",
     "text": [
      "Enter any string: 12345abcde\n",
      "matched\n"
     ]
    }
   ],
   "source": [
    "string24=input(\"Enter any string: \")\n",
    "pattern24='[a-zA-Z0-9]$'\n",
    "if (re.search(pattern24,string24)):\n",
    "        print('matched')\n",
    "else:\n",
    "        print('not matched')"
   ]
  },
  {
   "cell_type": "markdown",
   "id": "a894a5f8",
   "metadata": {},
   "source": [
    "# Q27. Write a python program using RegEx to extract the hashtags."
   ]
  },
  {
   "cell_type": "code",
   "execution_count": 18,
   "id": "5eb80e3a",
   "metadata": {},
   "outputs": [
    {
     "name": "stdout",
     "output_type": "stream",
     "text": [
      "Enter any string: = \"\"\"RT @kapil_kausik: #Doltiwal I mean #xyzabc is \"hurt\" by #Demonetization as the same has rendered USELESS <ed><U+00A0><U+00BD><ed><U+00B1><U+0089> \"acquired funds\" No wo\"\"\"\n",
      "['#Doltiwal', '#xyzabc', '#Demonetization']\n"
     ]
    }
   ],
   "source": [
    "string25=input(\"Enter any string: \")\n",
    "pattern25='#\\S+'\n",
    "result11=re.findall(pattern25,string25)\n",
    "print(result11)"
   ]
  },
  {
   "cell_type": "markdown",
   "id": "c497c483",
   "metadata": {},
   "source": [
    "# Q28. Write a python program using RegEx to remove <U+..> like symbols. Check the below sample text, there are strange symbols something of the sort <U+..> all over the place. You need to come up with a general Regex expression that will cover all such symbols."
   ]
  },
  {
   "cell_type": "code",
   "execution_count": 28,
   "id": "dae10090",
   "metadata": {},
   "outputs": [
    {
     "name": "stdout",
     "output_type": "stream",
     "text": [
      "Enter any string: \"@Jags123456 Bharat band on 28??<ed><U+00A0><U+00BD><ed><U+00B8><U+0082>Those who  are protesting #demonetization  are all different party leaders\"\n",
      "\"@Jags123456 Bharat band on 28??<ed><ed>Those who  are protesting #demonetization  are all different party leaders\"\n"
     ]
    }
   ],
   "source": [
    "string26=input(\"Enter any string: \")\n",
    "pattern26='<U\\+[A-Z0-9]{4}>'\n",
    "result12=re.sub(pattern26,'',string26)\n",
    "print(result12)"
   ]
  },
  {
   "cell_type": "markdown",
   "id": "2ec6ddf8",
   "metadata": {},
   "source": [
    "# Q29. Write a python program to extract dates from the text stored in the text file. Sample Text: Ron was born on 12-09-1992 and he was admitted to school 15-12-1999. Store this sample text in the file and then extract dates.\n"
   ]
  },
  {
   "cell_type": "code",
   "execution_count": 26,
   "id": "c5975c56",
   "metadata": {},
   "outputs": [
    {
     "name": "stdout",
     "output_type": "stream",
     "text": [
      "['12-09-1992', '15-12-1999']\n"
     ]
    }
   ],
   "source": [
    "with open(\"Sample1.txt\") as file1:\n",
    "    pattern27='\\d{2}[-]\\d{2}[-]\\d{4}'\n",
    "    for string27 in file1:\n",
    "        result13=re.findall(pattern27,string27)\n",
    "        print(result13)"
   ]
  },
  {
   "cell_type": "markdown",
   "id": "62811dc5",
   "metadata": {},
   "source": [
    "# Q30. Write a Python program to replace all occurrences of a space, comma, or dot with a colon. Sample Text- 'Python Exercises, PHP exercises.' Output: Python:Exercises::PHP:exercises:"
   ]
  },
  {
   "cell_type": "code",
   "execution_count": 25,
   "id": "df6c89f0",
   "metadata": {},
   "outputs": [
    {
     "name": "stdout",
     "output_type": "stream",
     "text": [
      "Enter any IP address: Python Exercises, PHP exercises.\n",
      "Python:Exercises::PHP:exercises:\n"
     ]
    }
   ],
   "source": [
    "string28=input(\"Enter any IP address: \")\n",
    "result14=re.sub('[ ,.]',':',string28)\n",
    "print(result14)"
   ]
  }
 ],
 "metadata": {
  "kernelspec": {
   "display_name": "Python 3 (ipykernel)",
   "language": "python",
   "name": "python3"
  },
  "language_info": {
   "codemirror_mode": {
    "name": "ipython",
    "version": 3
   },
   "file_extension": ".py",
   "mimetype": "text/x-python",
   "name": "python",
   "nbconvert_exporter": "python",
   "pygments_lexer": "ipython3",
   "version": "3.9.13"
  }
 },
 "nbformat": 4,
 "nbformat_minor": 5
}
